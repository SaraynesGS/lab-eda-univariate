{
 "cells": [
  {
   "cell_type": "markdown",
   "metadata": {},
   "source": [
    "# Lab - EDA Univariate Analysis: Diving into Amazon UK Product Insights"
   ]
  },
  {
   "cell_type": "code",
   "execution_count": 1,
   "metadata": {},
   "outputs": [],
   "source": [
    "import pandas as pd\n",
    "import matplotlib.pyplot as plt # viz\n",
    "import seaborn as sns # better viz\n",
    "import numpy as np # numerical python\n",
    "from matplotlib.ticker import PercentFormatter\n",
    "\n",
    "%matplotlib inline\n",
    "pd.set_option('display.max_columns', None)"
   ]
  },
  {
   "cell_type": "code",
   "execution_count": 2,
   "metadata": {},
   "outputs": [],
   "source": [
    "# Loading Amazon dataset \n",
    "data = pd.read_csv(\"amz_uk_price_prediction_dataset.csv\")\n",
    "df = data.copy()"
   ]
  },
  {
   "cell_type": "code",
   "execution_count": 3,
   "metadata": {},
   "outputs": [
    {
     "data": {
      "text/html": [
       "<div>\n",
       "<style scoped>\n",
       "    .dataframe tbody tr th:only-of-type {\n",
       "        vertical-align: middle;\n",
       "    }\n",
       "\n",
       "    .dataframe tbody tr th {\n",
       "        vertical-align: top;\n",
       "    }\n",
       "\n",
       "    .dataframe thead th {\n",
       "        text-align: right;\n",
       "    }\n",
       "</style>\n",
       "<table border=\"1\" class=\"dataframe\">\n",
       "  <thead>\n",
       "    <tr style=\"text-align: right;\">\n",
       "      <th></th>\n",
       "      <th>uid</th>\n",
       "      <th>asin</th>\n",
       "      <th>title</th>\n",
       "      <th>stars</th>\n",
       "      <th>reviews</th>\n",
       "      <th>price</th>\n",
       "      <th>isBestSeller</th>\n",
       "      <th>boughtInLastMonth</th>\n",
       "      <th>category</th>\n",
       "    </tr>\n",
       "  </thead>\n",
       "  <tbody>\n",
       "    <tr>\n",
       "      <th>0</th>\n",
       "      <td>1</td>\n",
       "      <td>B09B96TG33</td>\n",
       "      <td>Echo Dot (5th generation, 2022 release) | Big ...</td>\n",
       "      <td>4.7</td>\n",
       "      <td>15308</td>\n",
       "      <td>21.99</td>\n",
       "      <td>False</td>\n",
       "      <td>0</td>\n",
       "      <td>Hi-Fi Speakers</td>\n",
       "    </tr>\n",
       "    <tr>\n",
       "      <th>1</th>\n",
       "      <td>2</td>\n",
       "      <td>B01HTH3C8S</td>\n",
       "      <td>Anker Soundcore mini, Super-Portable Bluetooth...</td>\n",
       "      <td>4.7</td>\n",
       "      <td>98099</td>\n",
       "      <td>23.99</td>\n",
       "      <td>True</td>\n",
       "      <td>0</td>\n",
       "      <td>Hi-Fi Speakers</td>\n",
       "    </tr>\n",
       "    <tr>\n",
       "      <th>2</th>\n",
       "      <td>3</td>\n",
       "      <td>B09B8YWXDF</td>\n",
       "      <td>Echo Dot (5th generation, 2022 release) | Big ...</td>\n",
       "      <td>4.7</td>\n",
       "      <td>15308</td>\n",
       "      <td>21.99</td>\n",
       "      <td>False</td>\n",
       "      <td>0</td>\n",
       "      <td>Hi-Fi Speakers</td>\n",
       "    </tr>\n",
       "  </tbody>\n",
       "</table>\n",
       "</div>"
      ],
      "text/plain": [
       "   uid        asin                                              title  stars  \\\n",
       "0    1  B09B96TG33  Echo Dot (5th generation, 2022 release) | Big ...    4.7   \n",
       "1    2  B01HTH3C8S  Anker Soundcore mini, Super-Portable Bluetooth...    4.7   \n",
       "2    3  B09B8YWXDF  Echo Dot (5th generation, 2022 release) | Big ...    4.7   \n",
       "\n",
       "   reviews  price  isBestSeller  boughtInLastMonth        category  \n",
       "0    15308  21.99         False                  0  Hi-Fi Speakers  \n",
       "1    98099  23.99          True                  0  Hi-Fi Speakers  \n",
       "2    15308  21.99         False                  0  Hi-Fi Speakers  "
      ]
     },
     "execution_count": 3,
     "metadata": {},
     "output_type": "execute_result"
    }
   ],
   "source": [
    "df.head(3)"
   ]
  },
  {
   "cell_type": "code",
   "execution_count": 4,
   "metadata": {},
   "outputs": [
    {
     "name": "stdout",
     "output_type": "stream",
     "text": [
      "(2443651, 9)\n"
     ]
    },
    {
     "data": {
      "text/plain": [
       "Index(['uid', 'asin', 'title', 'stars', 'reviews', 'price', 'isBestSeller',\n",
       "       'boughtInLastMonth', 'category'],\n",
       "      dtype='object')"
      ]
     },
     "execution_count": 4,
     "metadata": {},
     "output_type": "execute_result"
    }
   ],
   "source": [
    "print(df.shape)\n",
    "df.columns"
   ]
  },
  {
   "cell_type": "code",
   "execution_count": 5,
   "metadata": {},
   "outputs": [
    {
     "name": "stdout",
     "output_type": "stream",
     "text": [
      "<class 'pandas.core.frame.DataFrame'>\n",
      "RangeIndex: 2443651 entries, 0 to 2443650\n",
      "Data columns (total 9 columns):\n",
      " #   Column             Dtype  \n",
      "---  ------             -----  \n",
      " 0   uid                int64  \n",
      " 1   asin               object \n",
      " 2   title              object \n",
      " 3   stars              float64\n",
      " 4   reviews            int64  \n",
      " 5   price              float64\n",
      " 6   isBestSeller       bool   \n",
      " 7   boughtInLastMonth  int64  \n",
      " 8   category           object \n",
      "dtypes: bool(1), float64(2), int64(3), object(3)\n",
      "memory usage: 151.5+ MB\n"
     ]
    }
   ],
   "source": [
    "df.info()"
   ]
  },
  {
   "cell_type": "code",
   "execution_count": 6,
   "metadata": {},
   "outputs": [
    {
     "data": {
      "text/html": [
       "<div>\n",
       "<style scoped>\n",
       "    .dataframe tbody tr th:only-of-type {\n",
       "        vertical-align: middle;\n",
       "    }\n",
       "\n",
       "    .dataframe tbody tr th {\n",
       "        vertical-align: top;\n",
       "    }\n",
       "\n",
       "    .dataframe thead th {\n",
       "        text-align: right;\n",
       "    }\n",
       "</style>\n",
       "<table border=\"1\" class=\"dataframe\">\n",
       "  <thead>\n",
       "    <tr style=\"text-align: right;\">\n",
       "      <th></th>\n",
       "      <th>count</th>\n",
       "      <th>mean</th>\n",
       "      <th>std</th>\n",
       "      <th>min</th>\n",
       "      <th>25%</th>\n",
       "      <th>50%</th>\n",
       "      <th>75%</th>\n",
       "      <th>max</th>\n",
       "    </tr>\n",
       "  </thead>\n",
       "  <tbody>\n",
       "    <tr>\n",
       "      <th>uid</th>\n",
       "      <td>2443651.0</td>\n",
       "      <td>1370545.35</td>\n",
       "      <td>816056.17</td>\n",
       "      <td>1.0</td>\n",
       "      <td>658921.50</td>\n",
       "      <td>1349029.00</td>\n",
       "      <td>2060685.50</td>\n",
       "      <td>2828593.0</td>\n",
       "    </tr>\n",
       "    <tr>\n",
       "      <th>stars</th>\n",
       "      <td>2443651.0</td>\n",
       "      <td>2.15</td>\n",
       "      <td>2.19</td>\n",
       "      <td>0.0</td>\n",
       "      <td>0.00</td>\n",
       "      <td>0.00</td>\n",
       "      <td>4.40</td>\n",
       "      <td>5.0</td>\n",
       "    </tr>\n",
       "    <tr>\n",
       "      <th>reviews</th>\n",
       "      <td>2443651.0</td>\n",
       "      <td>480.63</td>\n",
       "      <td>5944.12</td>\n",
       "      <td>0.0</td>\n",
       "      <td>0.00</td>\n",
       "      <td>0.00</td>\n",
       "      <td>59.00</td>\n",
       "      <td>1356658.0</td>\n",
       "    </tr>\n",
       "    <tr>\n",
       "      <th>price</th>\n",
       "      <td>2443651.0</td>\n",
       "      <td>89.24</td>\n",
       "      <td>345.61</td>\n",
       "      <td>0.0</td>\n",
       "      <td>9.99</td>\n",
       "      <td>19.09</td>\n",
       "      <td>45.99</td>\n",
       "      <td>100000.0</td>\n",
       "    </tr>\n",
       "    <tr>\n",
       "      <th>boughtInLastMonth</th>\n",
       "      <td>2443651.0</td>\n",
       "      <td>25.90</td>\n",
       "      <td>240.48</td>\n",
       "      <td>0.0</td>\n",
       "      <td>0.00</td>\n",
       "      <td>0.00</td>\n",
       "      <td>0.00</td>\n",
       "      <td>50000.0</td>\n",
       "    </tr>\n",
       "  </tbody>\n",
       "</table>\n",
       "</div>"
      ],
      "text/plain": [
       "                       count        mean        std  min        25%  \\\n",
       "uid                2443651.0  1370545.35  816056.17  1.0  658921.50   \n",
       "stars              2443651.0        2.15       2.19  0.0       0.00   \n",
       "reviews            2443651.0      480.63    5944.12  0.0       0.00   \n",
       "price              2443651.0       89.24     345.61  0.0       9.99   \n",
       "boughtInLastMonth  2443651.0       25.90     240.48  0.0       0.00   \n",
       "\n",
       "                          50%         75%        max  \n",
       "uid                1349029.00  2060685.50  2828593.0  \n",
       "stars                    0.00        4.40        5.0  \n",
       "reviews                  0.00       59.00  1356658.0  \n",
       "price                   19.09       45.99   100000.0  \n",
       "boughtInLastMonth        0.00        0.00    50000.0  "
      ]
     },
     "execution_count": 6,
     "metadata": {},
     "output_type": "execute_result"
    }
   ],
   "source": [
    "round(df.describe().T, 2)"
   ]
  },
  {
   "cell_type": "code",
   "execution_count": 7,
   "metadata": {},
   "outputs": [],
   "source": [
    "n_rows = df.shape[0]\n",
    "n_columns = df.shape[1]"
   ]
  },
  {
   "cell_type": "code",
   "execution_count": 8,
   "metadata": {},
   "outputs": [
    {
     "data": {
      "text/plain": [
       "uid                  0\n",
       "asin                 0\n",
       "title                0\n",
       "stars                0\n",
       "reviews              0\n",
       "price                0\n",
       "isBestSeller         0\n",
       "boughtInLastMonth    0\n",
       "category             0\n",
       "dtype: int64"
      ]
     },
     "execution_count": 8,
     "metadata": {},
     "output_type": "execute_result"
    }
   ],
   "source": [
    "df.isnull().sum()"
   ]
  },
  {
   "cell_type": "code",
   "execution_count": 9,
   "metadata": {},
   "outputs": [
    {
     "data": {
      "text/plain": [
       "uid                  0\n",
       "asin                 0\n",
       "title                0\n",
       "stars                0\n",
       "reviews              0\n",
       "price                0\n",
       "isBestSeller         0\n",
       "boughtInLastMonth    0\n",
       "category             0\n",
       "dtype: int64"
      ]
     },
     "execution_count": 9,
     "metadata": {},
     "output_type": "execute_result"
    }
   ],
   "source": [
    "df.isna().sum()"
   ]
  },
  {
   "cell_type": "markdown",
   "metadata": {},
   "source": [
    "### Part 1: Understanding Product Categories\n",
    "\n",
    "**Business Question**: What are the most popular product categories on Amazon UK, and how do they compare in terms of listing frequency?\n",
    "\n",
    "1. **Frequency Tables**:"
   ]
  },
  {
   "cell_type": "code",
   "execution_count": 10,
   "metadata": {},
   "outputs": [],
   "source": [
    "# Generate a frequency table for the product `category`.\n",
    "category_frequency = df.category.value_counts()\n",
    "category_proportion = df.category.value_counts(normalize=True).round(2)"
   ]
  },
  {
   "cell_type": "code",
   "execution_count": 11,
   "metadata": {},
   "outputs": [
    {
     "data": {
      "text/html": [
       "<div>\n",
       "<style scoped>\n",
       "    .dataframe tbody tr th:only-of-type {\n",
       "        vertical-align: middle;\n",
       "    }\n",
       "\n",
       "    .dataframe tbody tr th {\n",
       "        vertical-align: top;\n",
       "    }\n",
       "\n",
       "    .dataframe thead th {\n",
       "        text-align: right;\n",
       "    }\n",
       "</style>\n",
       "<table border=\"1\" class=\"dataframe\">\n",
       "  <thead>\n",
       "    <tr style=\"text-align: right;\">\n",
       "      <th></th>\n",
       "      <th>absolute_frequency</th>\n",
       "      <th>relative_frequency</th>\n",
       "    </tr>\n",
       "    <tr>\n",
       "      <th>category</th>\n",
       "      <th></th>\n",
       "      <th></th>\n",
       "    </tr>\n",
       "  </thead>\n",
       "  <tbody>\n",
       "    <tr>\n",
       "      <th>Sports &amp; Outdoors</th>\n",
       "      <td>836265</td>\n",
       "      <td>0.34</td>\n",
       "    </tr>\n",
       "    <tr>\n",
       "      <th>Beauty</th>\n",
       "      <td>19312</td>\n",
       "      <td>0.01</td>\n",
       "    </tr>\n",
       "    <tr>\n",
       "      <th>Handmade Clothing, Shoes &amp; Accessories</th>\n",
       "      <td>19229</td>\n",
       "      <td>0.01</td>\n",
       "    </tr>\n",
       "    <tr>\n",
       "      <th>Bath &amp; Body</th>\n",
       "      <td>19092</td>\n",
       "      <td>0.01</td>\n",
       "    </tr>\n",
       "    <tr>\n",
       "      <th>Birthday Gifts</th>\n",
       "      <td>18978</td>\n",
       "      <td>0.01</td>\n",
       "    </tr>\n",
       "    <tr>\n",
       "      <th>...</th>\n",
       "      <td>...</td>\n",
       "      <td>...</td>\n",
       "    </tr>\n",
       "    <tr>\n",
       "      <th>Alexa Built-In Devices</th>\n",
       "      <td>107</td>\n",
       "      <td>0.00</td>\n",
       "    </tr>\n",
       "    <tr>\n",
       "      <th>Motorbike Chassis</th>\n",
       "      <td>107</td>\n",
       "      <td>0.00</td>\n",
       "    </tr>\n",
       "    <tr>\n",
       "      <th>Plugs</th>\n",
       "      <td>107</td>\n",
       "      <td>0.00</td>\n",
       "    </tr>\n",
       "    <tr>\n",
       "      <th>Smart Home Security &amp; Lighting</th>\n",
       "      <td>104</td>\n",
       "      <td>0.00</td>\n",
       "    </tr>\n",
       "    <tr>\n",
       "      <th>Smart Speakers</th>\n",
       "      <td>54</td>\n",
       "      <td>0.00</td>\n",
       "    </tr>\n",
       "  </tbody>\n",
       "</table>\n",
       "<p>296 rows × 2 columns</p>\n",
       "</div>"
      ],
      "text/plain": [
       "                                        absolute_frequency  relative_frequency\n",
       "category                                                                      \n",
       "Sports & Outdoors                                   836265                0.34\n",
       "Beauty                                               19312                0.01\n",
       "Handmade Clothing, Shoes & Accessories               19229                0.01\n",
       "Bath & Body                                          19092                0.01\n",
       "Birthday Gifts                                       18978                0.01\n",
       "...                                                    ...                 ...\n",
       "Alexa Built-In Devices                                 107                0.00\n",
       "Motorbike Chassis                                      107                0.00\n",
       "Plugs                                                  107                0.00\n",
       "Smart Home Security & Lighting                         104                0.00\n",
       "Smart Speakers                                          54                0.00\n",
       "\n",
       "[296 rows x 2 columns]"
      ]
     },
     "execution_count": 11,
     "metadata": {},
     "output_type": "execute_result"
    }
   ],
   "source": [
    "# merging absoluty frequency with relative frequenceies\n",
    "category_df = pd.concat([category_frequency, category_proportion], axis=1)\n",
    "category_df.columns = ['absolute_frequency', 'relative_frequency']\n",
    "category_df"
   ]
  },
  {
   "cell_type": "code",
   "execution_count": 12,
   "metadata": {},
   "outputs": [
    {
     "data": {
      "text/html": [
       "<div>\n",
       "<style scoped>\n",
       "    .dataframe tbody tr th:only-of-type {\n",
       "        vertical-align: middle;\n",
       "    }\n",
       "\n",
       "    .dataframe tbody tr th {\n",
       "        vertical-align: top;\n",
       "    }\n",
       "\n",
       "    .dataframe thead th {\n",
       "        text-align: right;\n",
       "    }\n",
       "</style>\n",
       "<table border=\"1\" class=\"dataframe\">\n",
       "  <thead>\n",
       "    <tr style=\"text-align: right;\">\n",
       "      <th></th>\n",
       "      <th>absolute_frequency</th>\n",
       "      <th>relative_frequency</th>\n",
       "    </tr>\n",
       "  </thead>\n",
       "  <tbody>\n",
       "    <tr>\n",
       "      <th>Total</th>\n",
       "      <td>2443651</td>\n",
       "      <td>0.54</td>\n",
       "    </tr>\n",
       "  </tbody>\n",
       "</table>\n",
       "</div>"
      ],
      "text/plain": [
       "       absolute_frequency  relative_frequency\n",
       "Total             2443651                0.54"
      ]
     },
     "execution_count": 12,
     "metadata": {},
     "output_type": "execute_result"
    }
   ],
   "source": [
    "category_total_absolute = int(category_frequency.sum())\n",
    "category_total_relative = float(category_proportion.sum())\n",
    "\n",
    "total_row = pd.DataFrame({\n",
    "    'absolute_frequency': [category_total_absolute],\n",
    "    'relative_frequency': [category_total_relative]\n",
    "}, index=['Total'])\n",
    "total_row"
   ]
  },
  {
   "cell_type": "code",
   "execution_count": 13,
   "metadata": {},
   "outputs": [
    {
     "data": {
      "text/html": [
       "<div>\n",
       "<style scoped>\n",
       "    .dataframe tbody tr th:only-of-type {\n",
       "        vertical-align: middle;\n",
       "    }\n",
       "\n",
       "    .dataframe tbody tr th {\n",
       "        vertical-align: top;\n",
       "    }\n",
       "\n",
       "    .dataframe thead th {\n",
       "        text-align: right;\n",
       "    }\n",
       "</style>\n",
       "<table border=\"1\" class=\"dataframe\">\n",
       "  <thead>\n",
       "    <tr style=\"text-align: right;\">\n",
       "      <th></th>\n",
       "      <th>absolute_frequency</th>\n",
       "      <th>relative_frequency</th>\n",
       "    </tr>\n",
       "  </thead>\n",
       "  <tbody>\n",
       "    <tr>\n",
       "      <th>Sports &amp; Outdoors</th>\n",
       "      <td>836265</td>\n",
       "      <td>0.34</td>\n",
       "    </tr>\n",
       "    <tr>\n",
       "      <th>Beauty</th>\n",
       "      <td>19312</td>\n",
       "      <td>0.01</td>\n",
       "    </tr>\n",
       "    <tr>\n",
       "      <th>Handmade Clothing, Shoes &amp; Accessories</th>\n",
       "      <td>19229</td>\n",
       "      <td>0.01</td>\n",
       "    </tr>\n",
       "    <tr>\n",
       "      <th>Bath &amp; Body</th>\n",
       "      <td>19092</td>\n",
       "      <td>0.01</td>\n",
       "    </tr>\n",
       "    <tr>\n",
       "      <th>Birthday Gifts</th>\n",
       "      <td>18978</td>\n",
       "      <td>0.01</td>\n",
       "    </tr>\n",
       "    <tr>\n",
       "      <th>...</th>\n",
       "      <td>...</td>\n",
       "      <td>...</td>\n",
       "    </tr>\n",
       "    <tr>\n",
       "      <th>Motorbike Chassis</th>\n",
       "      <td>107</td>\n",
       "      <td>0.00</td>\n",
       "    </tr>\n",
       "    <tr>\n",
       "      <th>Plugs</th>\n",
       "      <td>107</td>\n",
       "      <td>0.00</td>\n",
       "    </tr>\n",
       "    <tr>\n",
       "      <th>Smart Home Security &amp; Lighting</th>\n",
       "      <td>104</td>\n",
       "      <td>0.00</td>\n",
       "    </tr>\n",
       "    <tr>\n",
       "      <th>Smart Speakers</th>\n",
       "      <td>54</td>\n",
       "      <td>0.00</td>\n",
       "    </tr>\n",
       "    <tr>\n",
       "      <th>Total</th>\n",
       "      <td>2443651</td>\n",
       "      <td>0.54</td>\n",
       "    </tr>\n",
       "  </tbody>\n",
       "</table>\n",
       "<p>297 rows × 2 columns</p>\n",
       "</div>"
      ],
      "text/plain": [
       "                                        absolute_frequency  relative_frequency\n",
       "Sports & Outdoors                                   836265                0.34\n",
       "Beauty                                               19312                0.01\n",
       "Handmade Clothing, Shoes & Accessories               19229                0.01\n",
       "Bath & Body                                          19092                0.01\n",
       "Birthday Gifts                                       18978                0.01\n",
       "...                                                    ...                 ...\n",
       "Motorbike Chassis                                      107                0.00\n",
       "Plugs                                                  107                0.00\n",
       "Smart Home Security & Lighting                         104                0.00\n",
       "Smart Speakers                                          54                0.00\n",
       "Total                                              2443651                0.54\n",
       "\n",
       "[297 rows x 2 columns]"
      ]
     },
     "execution_count": 13,
     "metadata": {},
     "output_type": "execute_result"
    }
   ],
   "source": [
    "category_df2 = pd.concat([category_df,total_row])\n",
    "category_df2"
   ]
  },
  {
   "cell_type": "code",
   "execution_count": 14,
   "metadata": {},
   "outputs": [
    {
     "data": {
      "text/html": [
       "<div>\n",
       "<style scoped>\n",
       "    .dataframe tbody tr th:only-of-type {\n",
       "        vertical-align: middle;\n",
       "    }\n",
       "\n",
       "    .dataframe tbody tr th {\n",
       "        vertical-align: top;\n",
       "    }\n",
       "\n",
       "    .dataframe thead th {\n",
       "        text-align: right;\n",
       "    }\n",
       "</style>\n",
       "<table border=\"1\" class=\"dataframe\">\n",
       "  <thead>\n",
       "    <tr style=\"text-align: right;\">\n",
       "      <th></th>\n",
       "      <th>category</th>\n",
       "      <th>absolute_frequency</th>\n",
       "      <th>relative_frequency</th>\n",
       "    </tr>\n",
       "  </thead>\n",
       "  <tbody>\n",
       "    <tr>\n",
       "      <th>0</th>\n",
       "      <td>Sports &amp; Outdoors</td>\n",
       "      <td>836265</td>\n",
       "      <td>0.34</td>\n",
       "    </tr>\n",
       "    <tr>\n",
       "      <th>1</th>\n",
       "      <td>Beauty</td>\n",
       "      <td>19312</td>\n",
       "      <td>0.01</td>\n",
       "    </tr>\n",
       "    <tr>\n",
       "      <th>2</th>\n",
       "      <td>Handmade Clothing, Shoes &amp; Accessories</td>\n",
       "      <td>19229</td>\n",
       "      <td>0.01</td>\n",
       "    </tr>\n",
       "    <tr>\n",
       "      <th>3</th>\n",
       "      <td>Bath &amp; Body</td>\n",
       "      <td>19092</td>\n",
       "      <td>0.01</td>\n",
       "    </tr>\n",
       "    <tr>\n",
       "      <th>4</th>\n",
       "      <td>Birthday Gifts</td>\n",
       "      <td>18978</td>\n",
       "      <td>0.01</td>\n",
       "    </tr>\n",
       "    <tr>\n",
       "      <th>...</th>\n",
       "      <td>...</td>\n",
       "      <td>...</td>\n",
       "      <td>...</td>\n",
       "    </tr>\n",
       "    <tr>\n",
       "      <th>291</th>\n",
       "      <td>Alexa Built-In Devices</td>\n",
       "      <td>107</td>\n",
       "      <td>0.00</td>\n",
       "    </tr>\n",
       "    <tr>\n",
       "      <th>292</th>\n",
       "      <td>Motorbike Chassis</td>\n",
       "      <td>107</td>\n",
       "      <td>0.00</td>\n",
       "    </tr>\n",
       "    <tr>\n",
       "      <th>293</th>\n",
       "      <td>Plugs</td>\n",
       "      <td>107</td>\n",
       "      <td>0.00</td>\n",
       "    </tr>\n",
       "    <tr>\n",
       "      <th>294</th>\n",
       "      <td>Smart Home Security &amp; Lighting</td>\n",
       "      <td>104</td>\n",
       "      <td>0.00</td>\n",
       "    </tr>\n",
       "    <tr>\n",
       "      <th>295</th>\n",
       "      <td>Smart Speakers</td>\n",
       "      <td>54</td>\n",
       "      <td>0.00</td>\n",
       "    </tr>\n",
       "  </tbody>\n",
       "</table>\n",
       "<p>296 rows × 3 columns</p>\n",
       "</div>"
      ],
      "text/plain": [
       "                                   category  absolute_frequency  \\\n",
       "0                         Sports & Outdoors              836265   \n",
       "1                                    Beauty               19312   \n",
       "2    Handmade Clothing, Shoes & Accessories               19229   \n",
       "3                               Bath & Body               19092   \n",
       "4                            Birthday Gifts               18978   \n",
       "..                                      ...                 ...   \n",
       "291                  Alexa Built-In Devices                 107   \n",
       "292                       Motorbike Chassis                 107   \n",
       "293                                   Plugs                 107   \n",
       "294          Smart Home Security & Lighting                 104   \n",
       "295                          Smart Speakers                  54   \n",
       "\n",
       "     relative_frequency  \n",
       "0                  0.34  \n",
       "1                  0.01  \n",
       "2                  0.01  \n",
       "3                  0.01  \n",
       "4                  0.01  \n",
       "..                  ...  \n",
       "291                0.00  \n",
       "292                0.00  \n",
       "293                0.00  \n",
       "294                0.00  \n",
       "295                0.00  \n",
       "\n",
       "[296 rows x 3 columns]"
      ]
     },
     "execution_count": 14,
     "metadata": {},
     "output_type": "execute_result"
    }
   ],
   "source": [
    "category_df = category_df.reset_index()\n",
    "#category_df = category_df.drop(columns=[\"level_0\"])\n",
    "category_df"
   ]
  },
  {
   "cell_type": "code",
   "execution_count": 15,
   "metadata": {},
   "outputs": [
    {
     "name": "stdout",
     "output_type": "stream",
     "text": [
      "                                 category  absolute_frequency  \\\n",
      "0                       Sports & Outdoors              836265   \n",
      "1                                  Beauty               19312   \n",
      "2  Handmade Clothing, Shoes & Accessories               19229   \n",
      "3                             Bath & Body               19092   \n",
      "4                          Birthday Gifts               18978   \n",
      "\n",
      "   relative_frequency  \n",
      "0                0.34  \n",
      "1                0.01  \n",
      "2                0.01  \n",
      "3                0.01  \n",
      "4                0.01  \n"
     ]
    }
   ],
   "source": [
    "# Which are the top 5 most listed product categories?\n",
    "top_five_categories = category_df.head(5)\n",
    "print(top_five_categories)"
   ]
  },
  {
   "cell_type": "markdown",
   "metadata": {},
   "source": [
    "2. **Visualizations**:"
   ]
  },
  {
   "cell_type": "code",
   "execution_count": 16,
   "metadata": {},
   "outputs": [
    {
     "name": "stdout",
     "output_type": "stream",
     "text": [
      "['Sports & Outdoors', 'Beauty', 'Handmade Clothing, Shoes & Accessories', 'Bath & Body', 'Birthday Gifts']\n"
     ]
    }
   ],
   "source": [
    "print(list(top_five_categories[\"category\"]))"
   ]
  },
  {
   "cell_type": "code",
   "execution_count": 17,
   "metadata": {},
   "outputs": [
    {
     "data": {
      "image/png": "[encoded data removed]",
      "text/plain": [
       "<Figure size 640x480 with 1 Axes>"
      ]
     },
     "metadata": {},
     "output_type": "display_data"
    }
   ],
   "source": [
    "\"\"\"\n",
    "- Display the distribution of products across different categories using a bar chart. \n",
    "*If you face problems understanding the chart, do it for a subset of top categories.*\n",
    "\"\"\"\n",
    "\n",
    "from matplotlib.ticker import PercentFormatter\n",
    "\n",
    "# Dictionary for category mapping\n",
    "category_mapping = {\n",
    "    1: 'Sports & Outdoors',\n",
    "    2: 'Beauty',\n",
    "    3: 'Handmade Clothing, Shoes & Accessories',\n",
    "    4: 'Bath & Body',\n",
    "    5: 'Birthday Gifts'\n",
    "}\n",
    "\n",
    "# Plot\n",
    "sns.barplot(\n",
    "    x=\"category\",\n",
    "    hue=\"category\",\n",
    "    y=\"relative_frequency\",\n",
    "    data=top_five_categories,\n",
    "    palette='viridis',\n",
    "    dodge=False  # Ensure the bars for each category are not split due to the hue\n",
    ")\n",
    "\n",
    "# Customize the axis titles and plot title\n",
    "plt.xlabel(\"Category\")\n",
    "plt.ylabel(\"Relative frequency\")\n",
    "plt.title(\"Bar graph of the relative frequency distribution of the top five products categories\")\n",
    "\n",
    "# Set x-axis ticks to show only the keys\n",
    "plt.xticks(ticks=[0, 1, 2, 3, 4], labels=list(category_mapping.keys()))\n",
    "\n",
    "# Apply percentage formatting to y-axis\n",
    "plt.gca().yaxis.set_major_formatter(PercentFormatter(1))\n",
    "\n",
    "# Customize the legend to show both key and value\n",
    "category_labels = [f\"{key}: {value}\" for key, value in category_mapping.items()]\n",
    "legend = plt.legend(\n",
    "    title='Categories',\n",
    "    labels=category_labels  # Update legend text\n",
    ")\n",
    "\n",
    "# Update legend text to show both key and value\n",
    "for key, label in zip(category_mapping.keys(), category_labels):\n",
    "    legend.get_texts()[key - 1].set_text(label)\n",
    "\n",
    "# Use tight layout to avoid layout issues\n",
    "plt.tight_layout()\n",
    "\n",
    "# Show the plot\n",
    "plt.show()"
   ]
  },
  {
   "cell_type": "code",
   "execution_count": 18,
   "metadata": {},
   "outputs": [
    {
     "data": {
      "image/png": "[encoded data removed]",
      "text/plain": [
       "<Figure size 800x800 with 1 Axes>"
      ]
     },
     "metadata": {},
     "output_type": "display_data"
    }
   ],
   "source": [
    "\"\"\"\n",
    "- For a subset of top categories, visualize their proportions using a pie chart. Does any category dominate the listings?\n",
    "\n",
    "    Sports & Outdoors dominates the list of the top categories of products\n",
    "\"\"\"\n",
    "\n",
    "# Dictionary for category mapping\n",
    "category_mapping = {\n",
    "    1: 'Sports & Outdoors',\n",
    "    2: 'Beauty',\n",
    "    3: 'Handmade Clothing, Shoes & Accessories',\n",
    "    4: 'Bath & Body',\n",
    "    5: 'Birthday Gifts'\n",
    "}\n",
    "\n",
    "# Plot a pie chart\n",
    "plt.figure(figsize=(8, 8))  # Set the size of the plot\n",
    "wedges, texts, autotexts = plt.pie(\n",
    "    top_five_categories['relative_frequency'],\n",
    "    labels=top_five_categories['category'].astype(str),  # Show category keys on the chart\n",
    "    autopct='%1.1f%%',  # Display percentage on the pie slices\n",
    "    startangle=-140,     # Start the pie at a better angle\n",
    "    colors=plt.cm.viridis(np.linspace(0, 1, len(top_five_categories)))  # Use a color map and space colors\n",
    ")\n",
    "\n",
    "# Format the autotexts for better readability\n",
    "for autotext in autotexts:\n",
    "    autotext.set_color('white')\n",
    "    #autotext.set_weight('bold')\n",
    "\n",
    "# Add a title\n",
    "plt.title(\"Pie chart of the relative frequency distribution by the top five products categories\")\n",
    "\n",
    "# Adjust layout for better spacing\n",
    "plt.tight_layout()\n",
    "\n",
    "# Show the plot\n",
    "plt.show()"
   ]
  },
  {
   "cell_type": "markdown",
   "metadata": {},
   "source": [
    "### Part 2: Delving into Product Pricing\n",
    "\n",
    "**Business Question**: How are products priced on Amazon UK, and are there specific price points or ranges that are more common?\n",
    "\n",
    "1. **Measures of Centrality**:"
   ]
  },
  {
   "cell_type": "code",
   "execution_count": 5,
   "metadata": {},
   "outputs": [
    {
     "data": {
      "text/plain": [
       "0          21.99\n",
       "1          23.99\n",
       "2          21.99\n",
       "3          31.99\n",
       "4          17.99\n",
       "           ...  \n",
       "2443646    22.34\n",
       "2443647    97.99\n",
       "2443648    52.99\n",
       "2443649    79.99\n",
       "2443650    53.99\n",
       "Name: price, Length: 2443651, dtype: float64"
      ]
     },
     "execution_count": 5,
     "metadata": {},
     "output_type": "execute_result"
    }
   ],
   "source": [
    "\"\"\" \n",
    "- Calculate the mean, median, and mode for the `price` of products.\n",
    "\"\"\"\n",
    "round(df.price.describe(), 2)\n",
    "\n",
    "# it doesn't make sense to have a price of cero, they might be NaN\n",
    "df['price']. fillna(0) "
   ]
  },
  {
   "cell_type": "code",
   "execution_count": 6,
   "metadata": {},
   "outputs": [
    {
     "name": "stdout",
     "output_type": "stream",
     "text": [
      "The mean price is $89.24, the median price is $19.09, and the mode price is $0    9.99\n",
      "Name: price, dtype: float64\n",
      "The mean is larger the median, thus the distribution of price is positively skewed or skewed to the right\n"
     ]
    }
   ],
   "source": [
    "\"\"\"\"  \n",
    "- What's the average price point of products listed? How does this compare with the most common price point (mode)?\n",
    "\"\"\"\n",
    "\n",
    "price_mean   = round(df[\"price\"].mean(), 2)\n",
    "price_median = round(df[\"price\"].median(), 2)\n",
    "price_mode   = round(df[\"price\"].mode(), 2)\n",
    "\n",
    "print(f\"The mean price is ${price_mean}, the median price is ${price_median}, and the mode price is ${price_mode}\")\n",
    "    \n",
    "print(f\"The mean is larger the median, thus the distribution of price is positively skewed or skewed to the right\")\n",
    "\n"
   ]
  },
  {
   "cell_type": "markdown",
   "metadata": {},
   "source": [
    "2. **Measures of Dispersion**:"
   ]
  },
  {
   "cell_type": "code",
   "execution_count": 7,
   "metadata": {},
   "outputs": [
    {
     "name": "stdout",
     "output_type": "stream",
     "text": [
      "The standard deviation of the price series is $345.61, its variance is 119445.49\n"
     ]
    }
   ],
   "source": [
    "\"\"\"  \n",
    "- Determine the variance, standard deviation, range, and interquartile range for product `price`.\n",
    "\"\"\"\n",
    "price_std = round(df[\"price\"].std(), 2) \n",
    "price_var = round(df[\"price\"].var(), 2) \n",
    "\n",
    "print(f\"The standard deviation of the price series is ${price_std}, its variance is {price_var}\")"
   ]
  },
  {
   "cell_type": "code",
   "execution_count": 8,
   "metadata": {},
   "outputs": [
    {
     "name": "stdout",
     "output_type": "stream",
     "text": [
      "The skewness is 27.49 > 0. The distribution of the prices is positively skewed (right-skewed). There is a large bulk of data concentrated on the left side of the distribution.\n",
      "The kurtosis is 4241.62 > 3. The distribution of the prices is heavier in the rails and has a sharper peak compared to a normal distribution. This means that there are more outliers than in a normally distributed set\n"
     ]
    }
   ],
   "source": [
    "\"\"\" \n",
    "- How varied are the product prices? Are there any indicators of a significant spread in prices?\n",
    "\"\"\"\n",
    "price_sk = round(df[\"price\"].skew(), 2)\n",
    "\n",
    "price_k = round(df[\"price\"].kurtosis(), 2)\n",
    "\n",
    "print(f\"The skewness is {price_sk} > 0. The distribution of the prices is positively skewed (right-skewed). There is a large bulk of data concentrated on the left side of the distribution.\")\n",
    "print(f\"The kurtosis is {price_k} > 3. The distribution of the prices is heavier in the rails and has a sharper peak compared to a normal distribution. This means that there are more outliers than in a normally distributed set\")"
   ]
  },
  {
   "cell_type": "markdown",
   "metadata": {},
   "source": [
    "3. **Visualizations**:"
   ]
  },
  {
   "cell_type": "code",
   "execution_count": 9,
   "metadata": {},
   "outputs": [
    {
     "name": "stderr",
     "output_type": "stream",
     "text": [
      "/opt/anaconda3/lib/python3.12/site-packages/pandas/core/arraylike.py:399: RuntimeWarning: divide by zero encountered in log\n",
      "  result = getattr(ufunc, method)(*inputs, **kwargs)\n"
     ]
    },
    {
     "data": {
      "image/png": "[encoded data removed]",
      "text/plain": [
       "<Figure size 640x480 with 1 Axes>"
      ]
     },
     "metadata": {},
     "output_type": "display_data"
    }
   ],
   "source": [
    "\"\"\" \n",
    "- Is there a specific price range where most products fall? Plot a histogram to visualize the distribution of product prices. \n",
    "*If its hard to read these diagrams, think why this is, and explain how it could be solved.*.\n",
    "\"\"\"\n",
    "df['price_natural_log'] = np.log(df['price'])\n",
    "sns.histplot(df.price_natural_log, bins=\"auto\")\n",
    "\n",
    "# Customize the axis titles and plot title\n",
    "plt.xlabel(\"Price (natural logarithm)\")\n",
    "plt.ylabel(\"Count\")\n",
    "plt.title(\"Histogram of the natural logarithm of price\")\n",
    "\n",
    "plt.show()\n",
    "\n",
    "# It's hard to read these diagram because of the count distribution of each price. \n",
    "# It's easier if we use the natural logarithm of the price series."
   ]
  },
  {
   "cell_type": "code",
   "execution_count": 10,
   "metadata": {},
   "outputs": [
    {
     "data": {
      "image/png": "[encoded data removed]",
      "text/plain": [
       "<Figure size 1000x600 with 1 Axes>"
      ]
     },
     "metadata": {},
     "output_type": "display_data"
    },
    {
     "name": "stdout",
     "output_type": "stream",
     "text": [
      "Number of prices above or equal to $500: 87551\n"
     ]
    }
   ],
   "source": [
    "# Filter prices less than 500 for the histogram\n",
    "prices_below_500 = df[df['price'] < 500]['price']\n",
    "\n",
    "# Count prices 500 and above\n",
    "prices_above_500_count = (df['price'] >= 500).sum()\n",
    "\n",
    "# Plot the histogram for prices below 500\n",
    "plt.figure(figsize=(10, 6))  # Adjust the figure size\n",
    "plt.hist(prices_below_500, bins=50, color='skyblue', edgecolor='black')\n",
    "plt.title('Distribution of prices below $500')\n",
    "plt.xlabel('Price')\n",
    "plt.ylabel('Frequency')\n",
    "\n",
    "# Display the histogram\n",
    "plt.show()\n",
    "\n",
    "# Print the count of prices above 500\n",
    "print(f\"Number of prices above or equal to $500: {prices_above_500_count}\")"
   ]
  },
  {
   "cell_type": "code",
   "execution_count": 11,
   "metadata": {},
   "outputs": [
    {
     "data": {
      "image/png": "[encoded data removed]",
      "text/plain": [
       "<Figure size 640x480 with 1 Axes>"
      ]
     },
     "metadata": {},
     "output_type": "display_data"
    }
   ],
   "source": [
    "\"\"\" \n",
    "- Are there products that are priced significantly higher than the rest? Use a box plot to showcase the spread and potential outliers in product pricing. \n",
    "\"\"\"\n",
    "sns.boxplot(data=df.price_natural_log)\n",
    "plt.show()"
   ]
  },
  {
   "cell_type": "code",
   "execution_count": 12,
   "metadata": {},
   "outputs": [
    {
     "data": {
      "image/png": "[encoded data removed]",
      "text/plain": [
       "<Figure size 800x600 with 1 Axes>"
      ]
     },
     "metadata": {},
     "output_type": "display_data"
    },
    {
     "name": "stdout",
     "output_type": "stream",
     "text": [
      "Number of prices above or equal to $200: 194243\n"
     ]
    }
   ],
   "source": [
    "# Filter prices less than 200 for the boxplot\n",
    "prices_below_200 = df[df['price'] < 200]['price']\n",
    "\n",
    "# Count prices 200 and above\n",
    "prices_above_200_count = (df['price'] >= 200).sum()\n",
    "\n",
    "# Plot the boxplot for prices below 200\n",
    "plt.figure(figsize=(8, 6))  # Adjust the figure size\n",
    "sns.boxplot(x=prices_below_200, color='skyblue')\n",
    "plt.title('Boxplot of prices below $200')\n",
    "plt.xlabel('Price')\n",
    "\n",
    "# Display the boxplot\n",
    "plt.show()\n",
    "\n",
    "# Print the number of prices above 200\n",
    "print(f\"Number of prices above or equal to $200: {prices_above_200_count}\")"
   ]
  },
  {
   "cell_type": "markdown",
   "metadata": {},
   "source": [
    "### Part 3: Unpacking Product Ratings\n",
    "\n",
    "**Business Question**: How do customers rate products on Amazon UK, and are there any patterns or tendencies in the ratings?\n",
    "\n",
    "1. **Measures of Centrality**:"
   ]
  },
  {
   "cell_type": "code",
   "execution_count": 27,
   "metadata": {},
   "outputs": [
    {
     "name": "stdout",
     "output_type": "stream",
     "text": [
      "The mean rating is 2.15 stars, the median rating is 0.0 stars, and the mode rating is 0    0.0\n",
      "Name: stars, dtype: float64\n",
      "The mean is larger the median, thus the distribution of ratings is positively skewed or skewed to the right\n",
      "The ratings range between 0.0 and 0.0, however most people gives 0    0.0\n",
      "Name: stars, dtype: float64 stars\n"
     ]
    }
   ],
   "source": [
    "\"\"\" \n",
    "- Calculate the mean, median, and mode for the `rating` of products.\n",
    "\"\"\"\n",
    "stars_mean   = round(df[\"stars\"].mean(), 2)\n",
    "stars_median = round(df[\"stars\"].median(), 2)\n",
    "stars_mode   = round(df[\"stars\"].mode(), 2)\n",
    "stars_min = round(df[\"stars\"].min(), 2)\n",
    "stars_max = round(df[\"stars\"].max(), 2)\n",
    "\n",
    "print(f\"The mean rating is {stars_mean} stars, the median rating is {stars_median} stars, and the mode rating is {stars_mode}\")\n",
    "print(f\"The mean is larger the median, thus the distribution of ratings is positively skewed or skewed to the right\")\n",
    "print(f\"The ratings range between {stars_min} and {stars_min}, however most people gives {stars_mode} stars\")"
   ]
  },
  {
   "cell_type": "markdown",
   "metadata": {},
   "source": [
    "2. **Measures of Dispersion**:"
   ]
  },
  {
   "cell_type": "code",
   "execution_count": 28,
   "metadata": {},
   "outputs": [
    {
     "name": "stdout",
     "output_type": "stream",
     "text": [
      "The interquartile range is 4.4\n",
      "The standard deviation of the rating series is 2.19 stars, its variance is 4.82\n"
     ]
    }
   ],
   "source": [
    "\"\"\"  \n",
    "- Determine the variance, standard deviation, and interquartile range for product `rating`.\n",
    "\"\"\"\n",
    "stars_std = round(df[\"stars\"].std(), 2)\n",
    "stars_var = round(df[\"stars\"].var(), 2)\n",
    "stars_q1 = round(df[\"stars\"].quantile(0.25), 2)\n",
    "stars_q3 = round(df[\"stars\"].quantile(0.75), 2)\n",
    "stars_iqr = stars_q3 - stars_q1\n",
    "\n",
    "\"\"\"  \n",
    "- Are the ratings consistent, or is there a wide variation in customer feedback?\n",
    "\"\"\"\n",
    "print(f\"The interquartile range is {stars_iqr}\")\n",
    "print(f\"The standard deviation of the rating series is {stars_std} stars, its variance is {stars_var}\")"
   ]
  },
  {
   "cell_type": "markdown",
   "metadata": {},
   "source": [
    "3. **Shape of the Distribution**:"
   ]
  },
  {
   "cell_type": "code",
   "execution_count": 29,
   "metadata": {},
   "outputs": [
    {
     "name": "stdout",
     "output_type": "stream",
     "text": [
      "The skewness is 0.08 > 0. The distribution of the ratings is positively skewed (right-skewed).\n",
      "The kurtosis is -1.93 < 3. The distribution of the ratings is thinner in the tails, and with a flatter peak\n"
     ]
    }
   ],
   "source": [
    "\"\"\"  \n",
    "- Calculate the skewness and kurtosis for the `rating` column\n",
    "\"\"\"\n",
    "stars_sk = round(df[\"stars\"].skew(), 2)\n",
    "stars_k  = round(df[\"stars\"].kurtosis(), 2)\n",
    "\n",
    "\"\"\"  \n",
    "- Are the ratings normally distributed, or do they lean towards higher or lower values?\n",
    "\"\"\"\n",
    "print(f\"The skewness is {stars_sk} > 0. The distribution of the ratings is positively skewed (right-skewed).\")\n",
    "print(f\"The kurtosis is {stars_k} < 3. The distribution of the ratings is thinner in the tails, and with a flatter peak\")"
   ]
  },
  {
   "cell_type": "markdown",
   "metadata": {},
   "source": [
    "4. **Visualizations**:"
   ]
  },
  {
   "cell_type": "code",
   "execution_count": 30,
   "metadata": {},
   "outputs": [
    {
     "data": {
      "image/png": "[encoded data removed]",
      "text/plain": [
       "<Figure size 800x600 with 1 Axes>"
      ]
     },
     "metadata": {},
     "output_type": "display_data"
    }
   ],
   "source": [
    "# Plot the histogram for the \"star\" series\n",
    "plt.figure(figsize=(8, 6))  # Adjust the figure size\n",
    "counts, bins, patches = plt.hist(df['stars'], bins=range(0, 6), color='skyblue', edgecolor='black', align='left')\n",
    "\n",
    "# Rescale the y-axis to represent the frequency in millions\n",
    "plt.gca().set_yticks(plt.gca().get_yticks())  # Get current tick positions\n",
    "plt.gca().set_yticklabels([f'{y/1e6:.1f}' for y in plt.gca().get_yticks()])  # Format the ticks as decimal numbers\n",
    "\n",
    "# Add titles and labels\n",
    "plt.title('Distribution of ratings')\n",
    "plt.xlabel('Rating (stars)')\n",
    "plt.ylabel('Frequency (millions)')\n",
    "plt.xticks(range(0, 6))  # Set x-ticks to match possible star ratings\n",
    "\n",
    "# Display the histogram\n",
    "plt.show()"
   ]
  }
 ],
 "metadata": {
  "kernelspec": {
   "display_name": "base",
   "language": "python",
   "name": "python3"
  },
  "language_info": {
   "codemirror_mode": {
    "name": "ipython",
    "version": 3
   },
   "file_extension": ".py",
   "mimetype": "text/x-python",
   "name": "python",
   "nbconvert_exporter": "python",
   "pygments_lexer": "ipython3",
   "version": "3.12.4"
  }
 },
 "nbformat": 4,
 "nbformat_minor": 2
}
